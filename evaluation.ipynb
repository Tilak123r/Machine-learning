{
  "nbformat": 4,
  "nbformat_minor": 0,
  "metadata": {
    "colab": {
      "provenance": [],
      "mount_file_id": "1zCj1yDUY99jaWOsDYHO_oTUfaAXFeNLG",
      "authorship_tag": "ABX9TyNbFA5JjhcmFGMiGqfGNT4R",
      "include_colab_link": true
    },
    "kernelspec": {
      "name": "python3",
      "display_name": "Python 3"
    },
    "language_info": {
      "name": "python"
    }
  },
  "cells": [
    {
      "cell_type": "markdown",
      "metadata": {
        "id": "view-in-github",
        "colab_type": "text"
      },
      "source": [
        "<a href=\"https://colab.research.google.com/github/Tilak123r/Machine-learning/blob/main/evaluation.ipynb\" target=\"_parent\"><img src=\"https://colab.research.google.com/assets/colab-badge.svg\" alt=\"Open In Colab\"/></a>"
      ]
    },
    {
      "cell_type": "code",
      "execution_count": 3,
      "metadata": {
        "colab": {
          "base_uri": "https://localhost:8080/",
          "height": 597
        },
        "id": "gW7Re1VDo1sb",
        "outputId": "c8d45d69-827e-4321-b2c7-cc51409e496d"
      },
      "outputs": [
        {
          "output_type": "display_data",
          "data": {
            "text/plain": [
              "<Figure size 640x480 with 1 Axes>"
            ],
            "image/png": "[encoded data removed]"
          },
          "metadata": {}
        },
        {
          "output_type": "stream",
          "name": "stdout",
          "text": [
            "   X1  X2  cluster\n",
            "0  22  12        4\n",
            "1   3  34        3\n",
            "2  31  44        5\n",
            "3  11  21        1\n",
            "4  15  34        2\n",
            "5  17  45        0\n"
          ]
        }
      ],
      "source": [
        "import pandas as pd\n",
        "import matplotlib.pyplot as plt\n",
        "from sklearn.cluster import AgglomerativeClustering\n",
        "from scipy.cluster.hierarchy import dendrogram, linkage\n",
        "\n",
        "# Load your dataset from a CSV file using pd.read_csv\n",
        "data = pd.read_csv(\"/content/drive/MyDrive/Book1 (4).csv\")\n",
        "\n",
        "X = data[['X1', 'X2']]\n",
        "\n",
        "# Perform Agglomerative Clustering\n",
        "# You can specify the number of clusters (n_clusters) or let the algorithm determine it.\n",
        "# In this example, we let the algorithm determine the number of clusters using the 'ward' linkage method.\n",
        "agglomerative = AgglomerativeClustering(n_clusters=None, linkage='ward', distance_threshold=0.5)\n",
        "\n",
        "# Fit the Agglomerative Clustering model to your data\n",
        "agglomerative.fit(X)\n",
        "\n",
        "# Get the cluster labels for each data point\n",
        "labels = agglomerative.labels_\n",
        "\n",
        "# Visualize the dendrogram\n",
        "linkage_matrix = linkage(X, method='ward')\n",
        "dendrogram(linkage_matrix)\n",
        "plt.title('Dendrogram')\n",
        "plt.xlabel('Sample Index')\n",
        "plt.ylabel('Distance')\n",
        "plt.show()\n",
        "\n",
        "data['cluster'] = labels\n",
        "\n",
        "print(data[['X1', 'X2', 'cluster']])"
      ]
    },
    {
      "cell_type": "code",
      "source": [],
      "metadata": {
        "id": "tHDvM5OAsMgn"
      },
      "execution_count": 4,
      "outputs": []
    }
  ]
}