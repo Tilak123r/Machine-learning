{
  "nbformat": 4,
  "nbformat_minor": 0,
  "metadata": {
    "colab": {
      "provenance": []
    },
    "kernelspec": {
      "name": "python3",
      "display_name": "Python 3"
    },
    "language_info": {
      "name": "python"
    }
  },
  "cells": [
    {
      "cell_type": "code",
      "execution_count": null,
      "metadata": {
        "id": "PbqZCfGnYJ9j"
      },
      "outputs": [],
      "source": [
        "import numpy as np\n",
        "from sklearn.datasets import fetch_20newsgroups\n",
        "from sklearn.feature_extraction.text import TfidfVectorizer\n",
        "from sklearn.decomposition import PCA\n",
        "import matplotlib.pyplot as plt\n",
        "\n",
        "# Load the 20 Newsgroups dataset\n",
        "newsgroups = fetch_20newsgroups(subset='all', remove=('headers', 'footers', 'quotes'))\n",
        "\n",
        "# Vectorize the text data using TF-IDF\n",
        "vectorizer = TfidfVectorizer(max_features=10000)  # You can adjust max_features as needed\n",
        "X = vectorizer.fit_transform(newsgroups.data)\n",
        "\n",
        "# Perform PCA to reduce dimensionality\n",
        "n_components = 2  # Number of principal components to retain (adjust as needed)\n",
        "pca = PCA(n_components=n_components)\n",
        "X_pca = pca.fit_transform(X.toarray())\n",
        "\n",
        "# Plot the PCA results\n",
        "plt.figure(figsize=(10, 6))\n",
        "plt.scatter(X_pca[:, 0], X_pca[:, 1], c=newsgroups.target, cmap='viridis', marker='o', s=5)\n",
        "plt.colorbar(label='20 Newsgroups Category')\n",
        "plt.xlabel('Principal Component 1')\n",
        "plt.ylabel('Principal Component 2')\n",
        "plt.title('PCA of 20 Newsgroups Text Data')\n",
        "plt.show()"
      ]
    }
  ]
}